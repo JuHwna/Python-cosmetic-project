{
  "nbformat": 4,
  "nbformat_minor": 0,
  "metadata": {
    "colab": {
      "name": "모델연습4.ipynb",
      "version": "0.3.2",
      "provenance": [],
      "machine_shape": "hm"
    },
    "kernelspec": {
      "name": "python3",
      "display_name": "Python 3"
    },
    "accelerator": "GPU"
  },
  "cells": [
    {
      "cell_type": "code",
      "metadata": {
        "id": "cDEEVFEeCzx3",
        "colab_type": "code",
        "outputId": "10bc6380-b554-4ff5-86f4-2442a0b13e1b",
        "colab": {
          "base_uri": "https://localhost:8080/",
          "height": 35
        }
      },
      "source": [
        "import numpy as np\n",
        "import pandas as pd\n",
        "from keras.preprocessing.image import ImageDataGenerator, array_to_img, img_to_array, load_img\n",
        "from keras.utils import np_utils\n",
        "from keras.models import Sequential\n",
        "from keras.layers import Dense, Conv2D, MaxPooling2D, Dropout, Flatten\n",
        "from keras.callbacks import ModelCheckpoint, EarlyStopping\n",
        "from sklearn.model_selection import train_test_split\n",
        "import os, re, glob\n",
        "import cv2\n",
        "import random\n",
        "import matplotlib.pyplot as plt\n",
        "from keras.metrics import categorical_accuracy\n",
        "from keras.layers import Dense, Dropout, Flatten, Activation, BatchNormalization, regularizers\n",
        "from PIL import Image\n",
        "import seaborn as sns\n",
        "from sklearn.metrics import confusion_matrix\n",
        "from keras.applications import VGG16, ResNet50\n",
        "from keras import Input\n",
        "from keras.preprocessing.image import img_to_array, load_img"
      ],
      "execution_count": 0,
      "outputs": [
        {
          "output_type": "stream",
          "text": [
            "Using TensorFlow backend.\n"
          ],
          "name": "stderr"
        }
      ]
    },
    {
      "cell_type": "code",
      "metadata": {
        "id": "LcjnWJ5xeR19",
        "colab_type": "code",
        "outputId": "8234ebd9-2190-4c66-f04a-0e1c5dc42787",
        "colab": {
          "base_uri": "https://localhost:8080/",
          "height": 35
        }
      },
      "source": [
        "from google.colab import drive\n",
        "drive.mount('/gdrive', force_remount=True)"
      ],
      "execution_count": 0,
      "outputs": [
        {
          "output_type": "stream",
          "text": [
            "Mounted at /gdrive\n"
          ],
          "name": "stdout"
        }
      ]
    },
    {
      "cell_type": "code",
      "metadata": {
        "id": "Sgu3YHHyeSzF",
        "colab_type": "code",
        "outputId": "f0d86d6c-0476-4e6a-a3ee-107f506db942",
        "colab": {
          "base_uri": "https://localhost:8080/",
          "height": 233
        }
      },
      "source": [
        "!ls \"/gdrive/My Drive\""
      ],
      "execution_count": 0,
      "outputs": [
        {
          "output_type": "stream",
          "text": [
            " 결혼식\t\t\t\t      ebiz1609.pdf\n",
            " 일본여행\t\t\t      양식-제목없음.gform\n",
            "'제목없는 폴더'\t\t\t      gpt-2-playground_.ipynb\n",
            " 000002.jpg\t\t\t     '제목 없는 스프레드시트.gsheet'\n",
            " 00.Perceptron_iris.ipynb\t     '국가장학금에 대한 만족도 조사.gsheet'\n",
            "'제목없는 폴더 (1)'\t\t      model.h5\n",
            "'제목 없는 스프레드시트 (1).gsheet'   model.json\n",
            " burbach2018user.pdf\t\t      test.csv\n",
            "'Colab Notebooks'\t\t      test_model.csv\n",
            " cosmetic_image\t\t\t      train.csv\n",
            " cosmetic_image2\t\t     'Untitled1.ipynb의 사본'\n",
            " drive\n"
          ],
          "name": "stdout"
        }
      ]
    },
    {
      "cell_type": "code",
      "metadata": {
        "id": "8FVYwLhyegAe",
        "colab_type": "code",
        "outputId": "3914bc96-f316-42f6-a670-45aaa22413a0",
        "colab": {
          "base_uri": "https://localhost:8080/",
          "height": 649
        }
      },
      "source": [
        "size_x = 250\n",
        "size_y = 250\n",
        "\n",
        "img_rows250, img_cols250 = size_x, size_y\n",
        "\n",
        "path = \"/gdrive/My Drive/cosmetic_image/\" # 경로 추적\n",
        "\n",
        "categories = os.listdir(path) # data 폴더 안에 있는 폴더 명\n",
        "ncategories = len(categories)\n",
        "print(categories)\n",
        "\n",
        "imgs = []\n",
        "labels = []\n",
        "num = 0\n",
        "# LOAD ALL IMAGES \n",
        "for i, category in enumerate(categories):\n",
        "    print(i) \n",
        "    for f in os.listdir(path  + category):\n",
        "        try:\n",
        "            fullpath = os.path.join(path + category, f)\n",
        "            img = cv2.imread(fullpath)\n",
        "#             img = img[15:235,15:235,:]\n",
        "            imgs.append(img) \n",
        "            label_curr = i\n",
        "            labels.append(label_curr)\n",
        "#             print(img.shape)\n",
        "#             print(labels.shape)\n",
        "      \n",
        "        except:\n",
        "            continue\n",
        "# print(len(imgs))"
      ],
      "execution_count": 0,
      "outputs": [
        {
          "output_type": "stream",
          "text": [
            "['drjart ceramidin liquid 250x250', 'bobbibrown extra face oil 250x250', 'chanel hydra serum 250x250', 'chanel blue serum 250x250', 'chanel beaute initiale 250x250', 'drjart ctrl-a soothing moisturizer 250x250', 'bobbibrown extra repair moisture cream 250x250', 'chanel le lift eye cream 250x250', 'drjart ceramidin cream 250x250', 'chanel hydra beauty micro bubble cream 250x250', 'drjart second generation cicapair cream 250x250', 'esteelauder revitalizing supreme+ global antiaging power cream 250x250', 'esteelauder six generation advanced night repair essence 250x250', 'esteelauder idealist pore minimizing skin refinisher 250x250', 'esteelauder micro essence skin activating treatment lotion 250x250', 'esteelauder hydrationist moisture cream 250x250', 'drjart dermaclear micro foam 250x250', 'etudehouse baking powder pore cleansing foam 250x250', 'drjart vital hydra solution biome 250x250', 'esteelauder crescent white full cycle brightening UV protector SPF 50 PA++++ 250x250', 'etudehouse wonder pore freshner 250x250', 'etudehouse moistfull collagen cream 250x250', 'etudehouse realart cleansing oil moisture 250x250', 'innisfree blueberry rebalancing set 250x250', 'etudehouse monster micellar cleansing water 250x250', 'innisfree the minimum sun cream SPF25 PA++ 250x250', 'innisfree greentea balancing lotion EX 250x250', 'innisfree jeju cherry blossom tone up cream 250x250', 'etudehouse soonjung pH 5.5 relief toner 250x250', 'etudehouse soonjung pH 6.5 whip cleanser 250x250', 'missha misa geumseol latex 250x250', 'innisfree truecare nonnano sunscreen SPF48 250x250', 'missha super super off cleansing oil [black head off] 250x250']\n",
            "0\n",
            "1\n",
            "2\n",
            "3\n",
            "4\n",
            "5\n",
            "6\n",
            "7\n",
            "8\n",
            "9\n",
            "10\n",
            "11\n",
            "12\n",
            "13\n",
            "14\n",
            "15\n",
            "16\n",
            "17\n",
            "18\n",
            "19\n",
            "20\n",
            "21\n",
            "22\n",
            "23\n",
            "24\n",
            "25\n",
            "26\n",
            "27\n",
            "28\n",
            "29\n",
            "30\n",
            "31\n",
            "32\n"
          ],
          "name": "stdout"
        }
      ]
    },
    {
      "cell_type": "code",
      "metadata": {
        "id": "oT7cS71Weixv",
        "colab_type": "code",
        "outputId": "703cd2ba-bfba-4ebd-bc90-e578ac7ae1c8",
        "colab": {
          "base_uri": "https://localhost:8080/",
          "height": 71
        }
      },
      "source": [
        "imgs=np.array(imgs)\n",
        "imgs = np.array(imgs).astype('float32')\n",
        "imgs /= 255.\n",
        "imgs = imgs.reshape(imgs.shape[0],img_rows250, img_cols250,3)\n",
        "                \n",
        "print (\"Num imgs: %d\" % (len(imgs)))\n",
        "print (\"Num labels: %d\" % (len(labels)))\n",
        "print (ncategories)"
      ],
      "execution_count": 0,
      "outputs": [
        {
          "output_type": "stream",
          "text": [
            "Num imgs: 3051\n",
            "Num labels: 3051\n",
            "33\n"
          ],
          "name": "stdout"
        }
      ]
    },
    {
      "cell_type": "code",
      "metadata": {
        "id": "YD9zGdCAskVJ",
        "colab_type": "code",
        "outputId": "38b02d2e-0669-4675-d55e-71b2fc13f6fb",
        "colab": {
          "base_uri": "https://localhost:8080/",
          "height": 89
        }
      },
      "source": [
        "out_220 = imgs[:,15:235,15:235,:]\n",
        "# print(out.shape)\n",
        "img1 = imgs[:,:220,:220,:]\n",
        "img2 = imgs[:,:220,30:250,:]\n",
        "img3 = imgs[:,30:250,:220,:]\n",
        "img4 = imgs[:,30:250,30:250,:]\n",
        "list = [img1,img2,img3,img4]\n",
        "for i in list:\n",
        "    print(i.shape)\n",
        "    out_220 = np.concatenate((out_220,i),axis=0)\n"
      ],
      "execution_count": 0,
      "outputs": [
        {
          "output_type": "stream",
          "text": [
            "(3051, 220, 220, 3)\n",
            "(3051, 220, 220, 3)\n",
            "(3051, 220, 220, 3)\n",
            "(3051, 220, 220, 3)\n"
          ],
          "name": "stdout"
        }
      ]
    },
    {
      "cell_type": "code",
      "metadata": {
        "id": "D49PvcdytHM0",
        "colab_type": "code",
        "colab": {}
      },
      "source": [
        "#augmentation\n",
        "def rot_augment(img):\n",
        "    img90 = np.rot90(img,k=1,axes=(1,2))\n",
        "    img180 = np.rot90(img,k=2,axes=(1,2))\n",
        "    img270 = np.rot90(img,k=3,axes=(1,2))\n",
        "    \n",
        "    num = random.randint(1, 3)\n",
        "    if num == 1:\n",
        "        return np.concatenate((img, img90), axis=0)\n",
        "    if num == 2:\n",
        "        return np.concatenate((img, img180), axis=0)\n",
        "    if num == 3:\n",
        "        return np.concatenate((img, img270), axis=0)\n",
        "\n",
        "def flip_augment(img):\n",
        "    fl=img[:,:,::-1,:]\n",
        "    return np.concatenate((img,fl),axis=0)\n",
        "  \n",
        "def augment(img):\n",
        "    return flip_augment(img)\n",
        "    \n",
        "def y_augment(y,n):\n",
        "    out = y;\n",
        "    for i in range(n-1):\n",
        "        out = np.concatenate((out,y),axis=0)\n",
        "    return out"
      ],
      "execution_count": 0,
      "outputs": []
    },
    {
      "cell_type": "code",
      "metadata": {
        "id": "2e1OkMaqsqkz",
        "colab_type": "code",
        "outputId": "1fb67974-246f-44a4-b329-745aaa46ce1c",
        "colab": {
          "base_uri": "https://localhost:8080/",
          "height": 271
        }
      },
      "source": [
        "pre_trained_vgg = VGG16(weights='imagenet', include_top=False, input_shape=(220, 220, 3))"
      ],
      "execution_count": 0,
      "outputs": [
        {
          "output_type": "stream",
          "text": [
            "WARNING: Logging before flag parsing goes to stderr.\n",
            "W0827 06:31:48.091708 140248099084160 deprecation_wrapper.py:119] From /usr/local/lib/python3.6/dist-packages/keras/backend/tensorflow_backend.py:74: The name tf.get_default_graph is deprecated. Please use tf.compat.v1.get_default_graph instead.\n",
            "\n",
            "W0827 06:31:48.153512 140248099084160 deprecation_wrapper.py:119] From /usr/local/lib/python3.6/dist-packages/keras/backend/tensorflow_backend.py:517: The name tf.placeholder is deprecated. Please use tf.compat.v1.placeholder instead.\n",
            "\n",
            "W0827 06:31:48.176061 140248099084160 deprecation_wrapper.py:119] From /usr/local/lib/python3.6/dist-packages/keras/backend/tensorflow_backend.py:4138: The name tf.random_uniform is deprecated. Please use tf.random.uniform instead.\n",
            "\n",
            "W0827 06:31:48.234569 140248099084160 deprecation_wrapper.py:119] From /usr/local/lib/python3.6/dist-packages/keras/backend/tensorflow_backend.py:3976: The name tf.nn.max_pool is deprecated. Please use tf.nn.max_pool2d instead.\n",
            "\n",
            "W0827 06:31:48.842961 140248099084160 deprecation_wrapper.py:119] From /usr/local/lib/python3.6/dist-packages/keras/backend/tensorflow_backend.py:174: The name tf.get_default_session is deprecated. Please use tf.compat.v1.get_default_session instead.\n",
            "\n",
            "W0827 06:31:48.844878 140248099084160 deprecation_wrapper.py:119] From /usr/local/lib/python3.6/dist-packages/keras/backend/tensorflow_backend.py:181: The name tf.ConfigProto is deprecated. Please use tf.compat.v1.ConfigProto instead.\n",
            "\n"
          ],
          "name": "stderr"
        }
      ]
    },
    {
      "cell_type": "code",
      "metadata": {
        "id": "nY5ixtPls9c_",
        "colab_type": "code",
        "outputId": "e7948ecd-855e-431b-f2d3-ffb6f832fce5",
        "colab": {
          "base_uri": "https://localhost:8080/",
          "height": 1000
        }
      },
      "source": [
        "x_data = out_220\n",
        "y_data = pd.DataFrame(labels*5)\n",
        "pre_trained_vgg.trainable = False\n",
        "x_train, x_test, y_train, y_test = train_test_split(x_data, y_data, test_size=0.2)\n",
        "\n",
        "\n",
        "model = Sequential()\n",
        "model.add(pre_trained_vgg)\n",
        "model.add(Flatten())\n",
        "model.add(Dense(128,activation='relu'))\n",
        "model.add(Dense(33,activation='softmax'))\n",
        "model.compile(loss='sparse_categorical_crossentropy', optimizer='adam', metrics=['accuracy'])\n",
        "history = model.fit(x_train, y_train, batch_size=64, epochs=70, verbose=1, validation_split=0.2)\n"
      ],
      "execution_count": 0,
      "outputs": [
        {
          "output_type": "stream",
          "text": [
            "W0827 06:31:56.815321 140248099084160 deprecation_wrapper.py:119] From /usr/local/lib/python3.6/dist-packages/keras/optimizers.py:790: The name tf.train.Optimizer is deprecated. Please use tf.compat.v1.train.Optimizer instead.\n",
            "\n",
            "W0827 06:31:56.951293 140248099084160 deprecation.py:323] From /usr/local/lib/python3.6/dist-packages/tensorflow/python/ops/math_grad.py:1250: add_dispatch_support.<locals>.wrapper (from tensorflow.python.ops.array_ops) is deprecated and will be removed in a future version.\n",
            "Instructions for updating:\n",
            "Use tf.where in 2.0, which has the same broadcast rule as np.where\n"
          ],
          "name": "stderr"
        },
        {
          "output_type": "stream",
          "text": [
            "Train on 9763 samples, validate on 2441 samples\n",
            "Epoch 1/70\n",
            "9763/9763 [==============================] - 117s 12ms/step - loss: 1.4141 - acc: 0.6461 - val_loss: 0.5044 - val_acc: 0.8882\n",
            "Epoch 2/70\n",
            "9763/9763 [==============================] - 104s 11ms/step - loss: 0.2722 - acc: 0.9483 - val_loss: 0.2741 - val_acc: 0.9385\n",
            "Epoch 3/70\n",
            "9763/9763 [==============================] - 104s 11ms/step - loss: 0.1014 - acc: 0.9878 - val_loss: 0.1736 - val_acc: 0.9631\n",
            "Epoch 4/70\n",
            "9763/9763 [==============================] - 104s 11ms/step - loss: 0.0512 - acc: 0.9961 - val_loss: 0.1325 - val_acc: 0.9717\n",
            "Epoch 5/70\n",
            "9763/9763 [==============================] - 104s 11ms/step - loss: 0.0296 - acc: 0.9978 - val_loss: 0.1209 - val_acc: 0.9713\n",
            "Epoch 6/70\n",
            "9763/9763 [==============================] - 104s 11ms/step - loss: 0.0200 - acc: 0.9988 - val_loss: 0.1031 - val_acc: 0.9746\n",
            "Epoch 7/70\n",
            "9763/9763 [==============================] - 104s 11ms/step - loss: 0.0153 - acc: 0.9990 - val_loss: 0.0895 - val_acc: 0.9791\n",
            "Epoch 8/70\n",
            "9763/9763 [==============================] - 104s 11ms/step - loss: 0.0109 - acc: 0.9994 - val_loss: 0.0825 - val_acc: 0.9795\n",
            "Epoch 9/70\n",
            "9763/9763 [==============================] - 104s 11ms/step - loss: 0.0099 - acc: 0.9993 - val_loss: 0.0814 - val_acc: 0.9791\n",
            "Epoch 10/70\n",
            "9763/9763 [==============================] - 104s 11ms/step - loss: 0.0061 - acc: 0.9999 - val_loss: 0.0814 - val_acc: 0.9783\n",
            "Epoch 11/70\n",
            "9763/9763 [==============================] - 104s 11ms/step - loss: 0.0053 - acc: 0.9999 - val_loss: 0.0765 - val_acc: 0.9783\n",
            "Epoch 12/70\n",
            "9763/9763 [==============================] - 104s 11ms/step - loss: 0.0063 - acc: 0.9996 - val_loss: 0.0705 - val_acc: 0.9783\n",
            "Epoch 13/70\n",
            "9763/9763 [==============================] - 104s 11ms/step - loss: 0.0063 - acc: 0.9995 - val_loss: 0.1285 - val_acc: 0.9639\n",
            "Epoch 14/70\n",
            "9763/9763 [==============================] - 104s 11ms/step - loss: 0.0043 - acc: 0.9998 - val_loss: 0.0661 - val_acc: 0.9844\n",
            "Epoch 15/70\n",
            "9763/9763 [==============================] - 104s 11ms/step - loss: 0.0154 - acc: 0.9973 - val_loss: 0.0934 - val_acc: 0.9726\n",
            "Epoch 16/70\n",
            "9763/9763 [==============================] - 104s 11ms/step - loss: 0.0080 - acc: 0.9990 - val_loss: 0.0676 - val_acc: 0.9803\n",
            "Epoch 17/70\n",
            "9763/9763 [==============================] - 104s 11ms/step - loss: 0.0079 - acc: 0.9987 - val_loss: 0.0747 - val_acc: 0.9799\n",
            "Epoch 18/70\n",
            "9763/9763 [==============================] - 104s 11ms/step - loss: 0.0050 - acc: 0.9993 - val_loss: 0.0732 - val_acc: 0.9787\n",
            "Epoch 19/70\n",
            "9763/9763 [==============================] - 104s 11ms/step - loss: 0.0129 - acc: 0.9977 - val_loss: 0.0991 - val_acc: 0.9709\n",
            "Epoch 20/70\n",
            "9763/9763 [==============================] - 104s 11ms/step - loss: 0.0080 - acc: 0.9987 - val_loss: 0.0878 - val_acc: 0.9734\n",
            "Epoch 21/70\n",
            "9763/9763 [==============================] - 104s 11ms/step - loss: 0.0053 - acc: 0.9993 - val_loss: 0.0646 - val_acc: 0.9820\n",
            "Epoch 22/70\n",
            "9763/9763 [==============================] - 104s 11ms/step - loss: 0.0048 - acc: 0.9991 - val_loss: 0.0659 - val_acc: 0.9820\n",
            "Epoch 23/70\n",
            "9763/9763 [==============================] - 104s 11ms/step - loss: 0.0027 - acc: 0.9997 - val_loss: 0.0584 - val_acc: 0.9840\n",
            "Epoch 24/70\n",
            "9763/9763 [==============================] - 104s 11ms/step - loss: 0.0032 - acc: 0.9995 - val_loss: 0.0602 - val_acc: 0.9824\n",
            "Epoch 25/70\n",
            "9763/9763 [==============================] - 104s 11ms/step - loss: 0.0024 - acc: 0.9996 - val_loss: 0.0589 - val_acc: 0.9820\n",
            "Epoch 26/70\n",
            "9763/9763 [==============================] - 104s 11ms/step - loss: 0.0042 - acc: 0.9997 - val_loss: 0.0694 - val_acc: 0.9820\n",
            "Epoch 27/70\n",
            "9763/9763 [==============================] - 104s 11ms/step - loss: 0.0042 - acc: 0.9997 - val_loss: 0.0778 - val_acc: 0.9787\n",
            "Epoch 28/70\n",
            "9763/9763 [==============================] - 104s 11ms/step - loss: 0.0050 - acc: 0.9991 - val_loss: 0.1110 - val_acc: 0.9689\n",
            "Epoch 29/70\n",
            "9763/9763 [==============================] - 104s 11ms/step - loss: 0.0045 - acc: 0.9993 - val_loss: 0.1113 - val_acc: 0.9680\n",
            "Epoch 30/70\n",
            "9763/9763 [==============================] - 104s 11ms/step - loss: 0.0054 - acc: 0.9989 - val_loss: 0.1104 - val_acc: 0.9660\n",
            "Epoch 31/70\n",
            "9763/9763 [==============================] - 104s 11ms/step - loss: 0.1415 - acc: 0.9577 - val_loss: 0.2554 - val_acc: 0.9377\n",
            "Epoch 32/70\n",
            "9763/9763 [==============================] - 104s 11ms/step - loss: 0.0106 - acc: 0.9970 - val_loss: 0.1147 - val_acc: 0.9676\n",
            "Epoch 33/70\n",
            "9763/9763 [==============================] - 104s 11ms/step - loss: 0.0038 - acc: 0.9989 - val_loss: 0.0793 - val_acc: 0.9750\n",
            "Epoch 34/70\n",
            "9763/9763 [==============================] - 104s 11ms/step - loss: 0.0032 - acc: 0.9993 - val_loss: 0.0835 - val_acc: 0.9762\n",
            "Epoch 35/70\n",
            "9763/9763 [==============================] - 104s 11ms/step - loss: 0.0025 - acc: 0.9997 - val_loss: 0.0647 - val_acc: 0.9816\n",
            "Epoch 36/70\n",
            "9763/9763 [==============================] - 104s 11ms/step - loss: 8.4952e-04 - acc: 0.9999 - val_loss: 0.0629 - val_acc: 0.9807\n",
            "Epoch 37/70\n",
            "9763/9763 [==============================] - 104s 11ms/step - loss: 0.0017 - acc: 0.9997 - val_loss: 0.0734 - val_acc: 0.9803\n",
            "Epoch 38/70\n",
            "9763/9763 [==============================] - 104s 11ms/step - loss: 0.0019 - acc: 0.9997 - val_loss: 0.0713 - val_acc: 0.9766\n",
            "Epoch 39/70\n",
            "9763/9763 [==============================] - 104s 11ms/step - loss: 5.8844e-04 - acc: 0.9999 - val_loss: 0.0836 - val_acc: 0.9766\n",
            "Epoch 40/70\n",
            "9763/9763 [==============================] - 104s 11ms/step - loss: 0.0016 - acc: 0.9998 - val_loss: 0.0643 - val_acc: 0.9832\n",
            "Epoch 41/70\n",
            "9763/9763 [==============================] - 104s 11ms/step - loss: 0.0025 - acc: 0.9996 - val_loss: 0.0692 - val_acc: 0.9816\n",
            "Epoch 42/70\n",
            "9763/9763 [==============================] - 104s 11ms/step - loss: 0.0016 - acc: 0.9997 - val_loss: 0.0627 - val_acc: 0.9828\n",
            "Epoch 43/70\n",
            "9763/9763 [==============================] - 104s 11ms/step - loss: 0.0013 - acc: 0.9999 - val_loss: 0.0585 - val_acc: 0.9836\n",
            "Epoch 44/70\n",
            "9763/9763 [==============================] - 104s 11ms/step - loss: 0.0013 - acc: 0.9996 - val_loss: 0.0650 - val_acc: 0.9791\n",
            "Epoch 45/70\n",
            "9763/9763 [==============================] - 104s 11ms/step - loss: 0.0014 - acc: 0.9996 - val_loss: 0.0560 - val_acc: 0.9828\n",
            "Epoch 46/70\n",
            "9763/9763 [==============================] - 104s 11ms/step - loss: 7.9273e-04 - acc: 0.9998 - val_loss: 0.0609 - val_acc: 0.9824\n",
            "Epoch 47/70\n",
            "9763/9763 [==============================] - 104s 11ms/step - loss: 8.3669e-04 - acc: 0.9998 - val_loss: 0.0727 - val_acc: 0.9787\n",
            "Epoch 48/70\n",
            "9763/9763 [==============================] - 104s 11ms/step - loss: 0.0011 - acc: 0.9997 - val_loss: 0.0543 - val_acc: 0.9836\n",
            "Epoch 49/70\n",
            "9763/9763 [==============================] - 104s 11ms/step - loss: 0.0010 - acc: 0.9997 - val_loss: 0.0516 - val_acc: 0.9848\n",
            "Epoch 50/70\n",
            "9763/9763 [==============================] - 104s 11ms/step - loss: 6.8930e-04 - acc: 0.9998 - val_loss: 0.0512 - val_acc: 0.9848\n",
            "Epoch 51/70\n",
            "9763/9763 [==============================] - 105s 11ms/step - loss: 5.9613e-04 - acc: 0.9997 - val_loss: 0.0547 - val_acc: 0.9857\n",
            "Epoch 52/70\n",
            "9763/9763 [==============================] - 104s 11ms/step - loss: 0.0610 - acc: 0.9823 - val_loss: 0.5340 - val_acc: 0.8718\n",
            "Epoch 53/70\n",
            "9763/9763 [==============================] - 104s 11ms/step - loss: 0.0507 - acc: 0.9857 - val_loss: 0.1363 - val_acc: 0.9603\n",
            "Epoch 54/70\n",
            "9763/9763 [==============================] - 104s 11ms/step - loss: 0.0052 - acc: 0.9990 - val_loss: 0.0913 - val_acc: 0.9746\n",
            "Epoch 55/70\n",
            "9763/9763 [==============================] - 104s 11ms/step - loss: 9.8169e-04 - acc: 0.9998 - val_loss: 0.0748 - val_acc: 0.9762\n",
            "Epoch 56/70\n",
            "9763/9763 [==============================] - 104s 11ms/step - loss: 5.4934e-04 - acc: 0.9999 - val_loss: 0.0771 - val_acc: 0.9746\n",
            "Epoch 57/70\n",
            "9763/9763 [==============================] - 104s 11ms/step - loss: 4.2525e-04 - acc: 0.9998 - val_loss: 0.0722 - val_acc: 0.9775\n",
            "Epoch 58/70\n",
            "9763/9763 [==============================] - 104s 11ms/step - loss: 0.0011 - acc: 0.9997 - val_loss: 0.0730 - val_acc: 0.9762\n",
            "Epoch 59/70\n",
            "9763/9763 [==============================] - 104s 11ms/step - loss: 6.5583e-04 - acc: 0.9997 - val_loss: 0.0736 - val_acc: 0.9783\n",
            "Epoch 60/70\n",
            "9763/9763 [==============================] - 104s 11ms/step - loss: 6.5335e-04 - acc: 0.9996 - val_loss: 0.0715 - val_acc: 0.9791\n",
            "Epoch 61/70\n",
            "9763/9763 [==============================] - 104s 11ms/step - loss: 6.5987e-04 - acc: 0.9998 - val_loss: 0.0879 - val_acc: 0.9750\n",
            "Epoch 62/70\n",
            "9763/9763 [==============================] - 104s 11ms/step - loss: 5.1909e-04 - acc: 0.9998 - val_loss: 0.0740 - val_acc: 0.9775\n",
            "Epoch 63/70\n",
            "9763/9763 [==============================] - 104s 11ms/step - loss: 5.1885e-04 - acc: 0.9997 - val_loss: 0.0756 - val_acc: 0.9758\n",
            "Epoch 64/70\n",
            "9763/9763 [==============================] - 104s 11ms/step - loss: 5.0593e-04 - acc: 0.9998 - val_loss: 0.0693 - val_acc: 0.9783\n",
            "Epoch 65/70\n",
            "9763/9763 [==============================] - 104s 11ms/step - loss: 4.7923e-04 - acc: 0.9997 - val_loss: 0.0683 - val_acc: 0.9783\n",
            "Epoch 66/70\n",
            "9763/9763 [==============================] - 104s 11ms/step - loss: 6.3794e-04 - acc: 0.9996 - val_loss: 0.0709 - val_acc: 0.9791\n",
            "Epoch 67/70\n",
            "9763/9763 [==============================] - 104s 11ms/step - loss: 4.6797e-04 - acc: 0.9997 - val_loss: 0.0697 - val_acc: 0.9779\n",
            "Epoch 68/70\n",
            "9763/9763 [==============================] - 104s 11ms/step - loss: 4.1758e-04 - acc: 0.9998 - val_loss: 0.0700 - val_acc: 0.9779\n",
            "Epoch 69/70\n",
            "9763/9763 [==============================] - 104s 11ms/step - loss: 4.1353e-04 - acc: 0.9999 - val_loss: 0.0699 - val_acc: 0.9771\n",
            "Epoch 70/70\n",
            "9763/9763 [==============================] - 104s 11ms/step - loss: 0.0011 - acc: 0.9997 - val_loss: 0.0664 - val_acc: 0.9803\n"
          ],
          "name": "stdout"
        }
      ]
    },
    {
      "cell_type": "code",
      "metadata": {
        "id": "eaXTlkb7tByG",
        "colab_type": "code",
        "outputId": "0d083973-2ff3-400c-a50c-51aab8cce330",
        "colab": {
          "base_uri": "https://localhost:8080/",
          "height": 35
        }
      },
      "source": [
        "score = model.evaluate(x_test, y_test, verbose=0)\n",
        "score[1]"
      ],
      "execution_count": 0,
      "outputs": [
        {
          "output_type": "execute_result",
          "data": {
            "text/plain": [
              "0.9790232710586693"
            ]
          },
          "metadata": {
            "tags": []
          },
          "execution_count": 9
        }
      ]
    },
    {
      "cell_type": "code",
      "metadata": {
        "id": "HydOuVNsNcyt",
        "colab_type": "code",
        "colab": {}
      },
      "source": [
        "model_json = model.to_json()\n",
        "with open(\"/gdrive/My Drive/model.json\", \"w\") as json_file : \n",
        "    json_file.write(model_json)"
      ],
      "execution_count": 0,
      "outputs": []
    },
    {
      "cell_type": "code",
      "metadata": {
        "id": "zRrr9n7-N0lW",
        "colab_type": "code",
        "outputId": "bf95df0c-2f22-4719-c287-102239593a06",
        "colab": {
          "base_uri": "https://localhost:8080/",
          "height": 35
        }
      },
      "source": [
        "model.save_weights(\"/gdrive/My Drive/model.h5\")\n",
        "print(\"Saved model to disk\")"
      ],
      "execution_count": 0,
      "outputs": [
        {
          "output_type": "stream",
          "text": [
            "Saved model to disk\n"
          ],
          "name": "stdout"
        }
      ]
    },
    {
      "cell_type": "code",
      "metadata": {
        "id": "C_otmz21N5LF",
        "colab_type": "code",
        "colab": {}
      },
      "source": [
        "sss=\"/gdrive/My Drive/000002.jpg\"\n"
      ],
      "execution_count": 0,
      "outputs": []
    },
    {
      "cell_type": "code",
      "metadata": {
        "id": "RowQQAtIPYyq",
        "colab_type": "code",
        "colab": {}
      },
      "source": [
        "size=220,220\n",
        "new_img = Image.new(\"RGB\", (220,220), \"black\") \n",
        "im = Image.open(sss) \n",
        "im.thumbnail(size, Image.ANTIALIAS) \n",
        "load_img = im.load() \n",
        "load_newimg = new_img.load() \n",
        "i_offset = (220 - im.size[0]) / 2 \n",
        "j_offset = (220 - im.size[1]) / 2 \n",
        "for i in range(0, im.size[0]): \n",
        "  for j in range(0, im.size[1]): \n",
        "    load_newimg[i + i_offset,j + j_offset] = load_img[i,j] \n",
        "ssss=img_to_array(new_img)\n",
        "ssss=ssss.reshape(-1,ssss.shape[0],ssss.shape[1],ssss.shape[2])\n",
        "ssss/=255.\n",
        "pred=model.predict(ssss,verbose=2)"
      ],
      "execution_count": 0,
      "outputs": []
    },
    {
      "cell_type": "code",
      "metadata": {
        "id": "jxj_gAaMPaTs",
        "colab_type": "code",
        "outputId": "7f12ba7b-08d8-4dcd-ce4d-a7f2a898e167",
        "colab": {
          "base_uri": "https://localhost:8080/",
          "height": 179
        }
      },
      "source": [
        "pred"
      ],
      "execution_count": 0,
      "outputs": [
        {
          "output_type": "execute_result",
          "data": {
            "text/plain": [
              "array([[3.01347506e-19, 3.68686484e-20, 2.69764112e-16, 1.07139199e-14,\n",
              "        1.29374098e-11, 5.44816824e-20, 3.86886393e-18, 4.90637926e-26,\n",
              "        1.30218769e-15, 1.07904014e-24, 2.53559892e-18, 5.46986428e-21,\n",
              "        4.73474830e-21, 1.49838890e-26, 8.99049552e-13, 2.32663815e-24,\n",
              "        1.20733253e-19, 1.32320757e-17, 1.11371397e-15, 1.12322105e-13,\n",
              "        4.70464757e-20, 7.95923182e-24, 3.04818851e-23, 1.39363615e-16,\n",
              "        6.52122829e-19, 1.00000000e+00, 3.97914056e-14, 2.90890066e-16,\n",
              "        2.04745335e-11, 1.55531776e-17, 5.72595182e-18, 8.75093175e-20,\n",
              "        2.26290039e-21]], dtype=float32)"
            ]
          },
          "metadata": {
            "tags": []
          },
          "execution_count": 22
        }
      ]
    },
    {
      "cell_type": "code",
      "metadata": {
        "id": "7Yyn6zTAP28T",
        "colab_type": "code",
        "colab": {}
      },
      "source": [
        "pred_class=model.predict_classes(ssss,verbose=2)"
      ],
      "execution_count": 0,
      "outputs": []
    },
    {
      "cell_type": "code",
      "metadata": {
        "id": "5y4OKbMaQAzp",
        "colab_type": "code",
        "outputId": "cb0bba21-5a3e-46c0-a4e7-e9069ddb6b17",
        "colab": {
          "base_uri": "https://localhost:8080/",
          "height": 35
        }
      },
      "source": [
        "pred_class"
      ],
      "execution_count": 0,
      "outputs": [
        {
          "output_type": "execute_result",
          "data": {
            "text/plain": [
              "array([25])"
            ]
          },
          "metadata": {
            "tags": []
          },
          "execution_count": 24
        }
      ]
    },
    {
      "cell_type": "code",
      "metadata": {
        "id": "aIC80yOIQCMJ",
        "colab_type": "code",
        "outputId": "5041936e-45dc-4051-f1b3-8cc16b70589f",
        "colab": {
          "base_uri": "https://localhost:8080/",
          "height": 641
        }
      },
      "source": [
        "plt.figure(figsize=(20, 10))\n",
        "\n",
        "\n",
        "plt.plot(history.history['acc'])\n",
        "plt.plot(history.history['val_acc'])\n",
        "plt.title('Trends of accuracy')\n",
        "plt.ylabel('accuracy')\n",
        "plt.xlabel('epoch')\n",
        "plt.legend(['train', 'val'], loc='upper left')\n",
        "\n",
        "\n",
        "plt.show()"
      ],
      "execution_count": 0,
      "outputs": [
        {
          "output_type": "display_data",
          "data": {
            "image/png": "[encoded data removed]",
            "text/plain": [
              "<Figure size 1440x720 with 1 Axes>"
            ]
          },
          "metadata": {
            "tags": []
          }
        }
      ]
    },
    {
      "cell_type": "code",
      "metadata": {
        "id": "Me5nioJAYHLI",
        "colab_type": "code",
        "colab": {}
      },
      "source": [
        ""
      ],
      "execution_count": 0,
      "outputs": []
    }
  ]
}